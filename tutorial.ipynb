{
  "cells": [
    {
      "attachments": {},
      "cell_type": "markdown",
      "metadata": {
        "id": "gTvLha2QDp5b"
      },
      "source": [
        "# YouTube Subtitle Whisper\n",
        "\n",
        "<br>\n",
        "    <a href=\"https://colab.research.google.com/github/dodoya1/youtube_subtitle_whisper/blob/master/tutorial.ipynb\"><img src=\"https://colab.research.google.com/assets/colab-badge.svg\" alt=\"Open In Colab\"></a>\n",
        "<br>\n",
        "\n",
        "## Description\n",
        "\"YouTube Subtitle Whisper\" is a Python script for adding subtitles to YouTube videos. Users can enter the URL of the YouTube video they wish to add subtitles to and enter the subtitle language. Thus, native Japanese speakers can input the URL of a YouTube video in English and select Japanese as the subtitle language to watch the video without any language barrier."
      ]
    },
    {
      "cell_type": "markdown",
      "metadata": {
        "id": "S947J24SEAKZ"
      },
      "source": [
        "## Setup"
      ]
    },
    {
      "cell_type": "code",
      "execution_count": null,
      "metadata": {
        "id": "1qczw8Q8hj3H"
      },
      "outputs": [],
      "source": [
        "!git clone https://github.com/dodoya1/youtube_subtitle_whisper.git"
      ]
    },
    {
      "cell_type": "code",
      "execution_count": null,
      "metadata": {
        "id": "70ns0yYCDZ4m"
      },
      "outputs": [],
      "source": [
        "cd youtube_subtitle_whisper"
      ]
    },
    {
      "cell_type": "code",
      "execution_count": null,
      "metadata": {
        "id": "lOWCyVRMDTke"
      },
      "outputs": [],
      "source": [
        "!pip install -r requirements.txt"
      ]
    },
    {
      "cell_type": "markdown",
      "metadata": {
        "id": "1B08bMYhEa-M"
      },
      "source": [
        "## Usage\n",
        "First, run the following command Next, enter the URL of the YouTube video to which you want to add subtitles and the language of the subtitles. Additionally, you will need to enter the name of the folder where you want to save the output results."
      ]
    },
    {
      "cell_type": "code",
      "execution_count": null,
      "metadata": {
        "id": "S-dPn5T5DVKP"
      },
      "outputs": [],
      "source": [
        "!python main.py"
      ]
    }
  ],
  "metadata": {
    "colab": {
      "provenance": []
    },
    "kernelspec": {
      "display_name": "Python 3",
      "name": "python3"
    },
    "language_info": {
      "name": "python"
    }
  },
  "nbformat": 4,
  "nbformat_minor": 0
}
